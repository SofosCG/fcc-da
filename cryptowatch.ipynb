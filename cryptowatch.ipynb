{
 "cells": [
  {
   "cell_type": "code",
   "execution_count": 2,
   "metadata": {},
   "outputs": [],
   "source": [
    "import requests\n",
    "import pandas as pd\n",
    "import numpy as np"
   ]
  },
  {
   "cell_type": "code",
   "execution_count": 3,
   "metadata": {},
   "outputs": [],
   "source": [
    "def get_historic_price(symbol, exchange='bitfinex', after='2018-09-01'):\n",
    "    url = 'https://api.cryptowat.ch/markets/{exchange}/{symbol}usd/ohlc'.format(\n",
    "        symbol=symbol, exchange=exchange)\n",
    "    resp = requests.get(url, params={\n",
    "        'periods': '3600',\n",
    "        'after': str(int(pd.Timestamp(after).timestamp()))\n",
    "    })\n",
    "    resp.raise_for_status()\n",
    "    data = resp.json()\n",
    "    df = pd.DataFrame(data['result']['3600'], columns=[\n",
    "        'CloseTime', 'OpenPrice', 'HighPrice', 'LowPrice', 'ClosePrice', 'Volume', 'NA'\n",
    "    ])\n",
    "    df['CloseTime'] = pd.to_datetime(df['CloseTime'], unit='s')\n",
    "    df.set_index('CloseTime', inplace=True)\n",
    "    return df"
   ]
  },
  {
   "cell_type": "code",
   "execution_count": 4,
   "metadata": {},
   "outputs": [],
   "source": [
    "last_week = (pd.Timestamp.now() - pd.offsets.Day(7))"
   ]
  },
  {
   "cell_type": "code",
   "execution_count": 5,
   "metadata": {},
   "outputs": [],
   "source": [
    "btc = get_historic_price('btc', 'bitstamp', after=last_week)"
   ]
  },
  {
   "cell_type": "code",
   "execution_count": 6,
   "metadata": {},
   "outputs": [],
   "source": [
    "eth = get_historic_price('eth', 'bitstamp', after=last_week)"
   ]
  },
  {
   "cell_type": "code",
   "execution_count": 7,
   "metadata": {},
   "outputs": [
    {
     "data": {
      "text/html": [
       "<div>\n",
       "<style scoped>\n",
       "    .dataframe tbody tr th:only-of-type {\n",
       "        vertical-align: middle;\n",
       "    }\n",
       "\n",
       "    .dataframe tbody tr th {\n",
       "        vertical-align: top;\n",
       "    }\n",
       "\n",
       "    .dataframe thead th {\n",
       "        text-align: right;\n",
       "    }\n",
       "</style>\n",
       "<table border=\"1\" class=\"dataframe\">\n",
       "  <thead>\n",
       "    <tr style=\"text-align: right;\">\n",
       "      <th></th>\n",
       "      <th>OpenPrice</th>\n",
       "      <th>HighPrice</th>\n",
       "      <th>LowPrice</th>\n",
       "      <th>ClosePrice</th>\n",
       "      <th>Volume</th>\n",
       "      <th>NA</th>\n",
       "    </tr>\n",
       "    <tr>\n",
       "      <th>CloseTime</th>\n",
       "      <th></th>\n",
       "      <th></th>\n",
       "      <th></th>\n",
       "      <th></th>\n",
       "      <th></th>\n",
       "      <th></th>\n",
       "    </tr>\n",
       "  </thead>\n",
       "  <tbody>\n",
       "    <tr>\n",
       "      <th>2022-12-19 00:00:00</th>\n",
       "      <td>16767</td>\n",
       "      <td>16817</td>\n",
       "      <td>16743</td>\n",
       "      <td>16749</td>\n",
       "      <td>48.122057</td>\n",
       "      <td>8.073914e+05</td>\n",
       "    </tr>\n",
       "    <tr>\n",
       "      <th>2022-12-19 01:00:00</th>\n",
       "      <td>16744</td>\n",
       "      <td>16815</td>\n",
       "      <td>16731</td>\n",
       "      <td>16778</td>\n",
       "      <td>29.670245</td>\n",
       "      <td>4.978498e+05</td>\n",
       "    </tr>\n",
       "    <tr>\n",
       "      <th>2022-12-19 02:00:00</th>\n",
       "      <td>16778</td>\n",
       "      <td>16807</td>\n",
       "      <td>16756</td>\n",
       "      <td>16787</td>\n",
       "      <td>6.654123</td>\n",
       "      <td>1.117058e+05</td>\n",
       "    </tr>\n",
       "    <tr>\n",
       "      <th>2022-12-19 03:00:00</th>\n",
       "      <td>16787</td>\n",
       "      <td>16791</td>\n",
       "      <td>16731</td>\n",
       "      <td>16731</td>\n",
       "      <td>18.420564</td>\n",
       "      <td>3.085068e+05</td>\n",
       "    </tr>\n",
       "    <tr>\n",
       "      <th>2022-12-19 04:00:00</th>\n",
       "      <td>16731</td>\n",
       "      <td>16732</td>\n",
       "      <td>16640</td>\n",
       "      <td>16686</td>\n",
       "      <td>73.860259</td>\n",
       "      <td>1.232061e+06</td>\n",
       "    </tr>\n",
       "  </tbody>\n",
       "</table>\n",
       "</div>"
      ],
      "text/plain": [
       "                     OpenPrice  HighPrice  LowPrice  ClosePrice     Volume  \\\n",
       "CloseTime                                                                    \n",
       "2022-12-19 00:00:00      16767      16817     16743       16749  48.122057   \n",
       "2022-12-19 01:00:00      16744      16815     16731       16778  29.670245   \n",
       "2022-12-19 02:00:00      16778      16807     16756       16787   6.654123   \n",
       "2022-12-19 03:00:00      16787      16791     16731       16731  18.420564   \n",
       "2022-12-19 04:00:00      16731      16732     16640       16686  73.860259   \n",
       "\n",
       "                               NA  \n",
       "CloseTime                          \n",
       "2022-12-19 00:00:00  8.073914e+05  \n",
       "2022-12-19 01:00:00  4.978498e+05  \n",
       "2022-12-19 02:00:00  1.117058e+05  \n",
       "2022-12-19 03:00:00  3.085068e+05  \n",
       "2022-12-19 04:00:00  1.232061e+06  "
      ]
     },
     "execution_count": 7,
     "metadata": {},
     "output_type": "execute_result"
    }
   ],
   "source": [
    "btc.head()"
   ]
  }
 ],
 "metadata": {
  "kernelspec": {
   "display_name": "Python 3",
   "language": "python",
   "name": "python3"
  },
  "language_info": {
   "codemirror_mode": {
    "name": "ipython",
    "version": 3
   },
   "file_extension": ".py",
   "mimetype": "text/x-python",
   "name": "python",
   "nbconvert_exporter": "python",
   "pygments_lexer": "ipython3",
   "version": "3.11.1"
  },
  "orig_nbformat": 4,
  "vscode": {
   "interpreter": {
    "hash": "5643f783c8cd4ab611971fe70754c934a4a24df4a7d98a1d3bf1e21a048278a7"
   }
  }
 },
 "nbformat": 4,
 "nbformat_minor": 2
}
